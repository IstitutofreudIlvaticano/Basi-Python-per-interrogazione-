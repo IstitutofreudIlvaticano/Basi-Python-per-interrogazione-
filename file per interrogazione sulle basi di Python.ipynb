{
 "cells": [
  {
   "cell_type": "code",
   "execution_count": 3,
   "id": "9200b21f",
   "metadata": {},
   "outputs": [
    {
     "name": "stdout",
     "output_type": "stream",
     "text": [
      "Inserisci il tuo nome: ROBERTO \n",
      "Inserisci il tuo cognome: ZHAO\n",
      "Benvenuto su Jupyter Notebook ROBERTO  ZHAO\n"
     ]
    }
   ],
   "source": [
    "#comprendere il comando input\n",
    "nome=input(\"Inserisci il tuo nome: \")\n",
    "cognome=input(\"Inserisci il tuo cognome: \")\n",
    "print(\"Benvenuto su Jupyter Notebook\",nome,cognome)"
   ]
  },
  {
   "cell_type": "code",
   "execution_count": 12,
   "id": "331829da",
   "metadata": {},
   "outputs": [
    {
     "name": "stdout",
     "output_type": "stream",
     "text": [
      "quanti numeri vuoi inserire2\n",
      "inserisci un numero:4.354324\n",
      "inserisci un numero:34322.3432423\n",
      "la media dei numeri inseriti è  17163.34878315\n"
     ]
    }
   ],
   "source": [
    "numeri = []\n",
    "n = int(input(\"quanti numeri vuoi inserire\"))\n",
    "for i in range(n):\n",
    "    numero = float(input(\"inserisci un numero:\"))\n",
    "    numeri.append(numero)\n",
    "\n",
    "media = sum(numeri) / len(numeri)\n",
    "\n",
    "print(\"la media dei numeri inseriti è \", media)"
   ]
  },
  {
   "cell_type": "markdown",
   "id": "9d52851d",
   "metadata": {},
   "source": [
    "#### comprendere come eseguire le sottrazioni\n",
    "print(\"Ciao, attraverso questa calcolatrice puoi eseguire calcoli con le sottrazioni!\")\n",
    "numero1=int(input(\"Inserisci il primo numero: \"))\n",
    "numero2=int(input(\"Inserisci il secondo numero: \"))\n",
    "sottrazione=numero1-numero2\n",
    "print(\"La sottrazione dei due numeri è pari a:\",int(sottrazione))"
   ]
  },
  {
   "cell_type": "code",
   "execution_count": null,
   "id": "671c90b9",
   "metadata": {},
   "outputs": [],
   "source": [
    "#comprendere come eseguire le moltiplicazioni\n",
    "print(\"Ciao, attraverso questa calcolatrice puoi eseguire calcoli con le moltiplicazioni!\")\n",
    "numero1=int(input(\"Inserisci il primo numero: \"))\n",
    "numero2=int(input(\"Inserisci il secondo numero: \"))\n",
    "moltiplicazione=numero1*numero2\n",
    "print(\"La moltiplicazione dei due numeri è pari a:\",int(moltiplicazione))"
   ]
  },
  {
   "cell_type": "code",
   "execution_count": null,
   "id": "3dd4b576",
   "metadata": {},
   "outputs": [],
   "source": [
    "#comprendere come eseguire le divisioni\n",
    "print(\"Ciao, attraverso questa calcolatrice puoi eseguire calcoli con le divisioni!\")\n",
    "numero1=int(input(\"Inserisci il primo numero: \"))\n",
    "numero2=int(input(\"Inserisci il secondo numero: \"))\n",
    "divisione=numero1/numero2\n",
    "print(\"La divisione dei due numeri è pari a:\",int(divisione))"
   ]
  },
  {
   "cell_type": "code",
   "execution_count": null,
   "id": "02ec3ccc",
   "metadata": {},
   "outputs": [],
   "source": [
    "#esempio di calcolatrice finale con tutte cinque le operazioni\n",
    "print(\"Ciao, attraverso questa calcolatrice puoi eseguire calcoli con le addizioni, sottrazioni, moltiplicazioni e divisioni, inoltre puoi anche calcolare il valore di una potenza!\")\n",
    "operazione=input(\"Adesso scegli l'operazione che fa al caso tuo attraverso il correlato simbolo (+, -, *, /, **): \")\n",
    "numero1=float(input(\"Inserisci il primo numero o la base della potenza: \"))\n",
    "numero2=float(input(\"Inserisci il secondo numero o l'esponente della potenza: \"))\n",
    "if operazione==\"+\":\n",
    "    risultato=numero1+numero2\n",
    "elif operazione==\"-\":\n",
    "    risultato=numero1-numero2\n",
    "elif operazione==\"*\":\n",
    "    risultato=numero1*numero2\n",
    "elif operazione==\"/\":\n",
    "    risultato=numero1/numero2\n",
    "elif operazione==\"**\":\n",
    "    risultato=numero1**numero2\n",
    "else:\n",
    "    risultato=\"operazione non riconosciuta. Prova con uno dei seguenti operatori riavviando prima il programma: +, -, *, /, **\"\n",
    "print(\"Il risultato finale del calcolo è:\",risultato)"
   ]
  },
  {
   "cell_type": "code",
   "execution_count": null,
   "id": "afb90bb9",
   "metadata": {},
   "outputs": [],
   "source": []
  },
  {
   "cell_type": "code",
   "execution_count": null,
   "id": "6264d227",
   "metadata": {},
   "outputs": [],
   "source": [
    "#comprendere il ciclo for con n\n",
    "print(\"Ciao, attraverso questo programma puoi verificare la numerazione ordinaria dei numeri dal e fino al punto che desideri\")\n",
    "n=int(input(\"Quindi, inserisci il numero positivo che desideri verificare: \"))\n",
    "p=int(input(\"Poi, inserisci da quale numero positivo desideri che la numerazione inizii: \"))\n",
    "for numero in range(p,n+1):\n",
    "    print(numero)"
   ]
  },
  {
   "cell_type": "code",
   "execution_count": null,
   "id": "391dfd96",
   "metadata": {},
   "outputs": [],
   "source": [
    "#comprendere il ciclo for con n facendo la somma cumulativa\n",
    "print(\"Ciao, attraverso questo programma puoi calcolare la somma cumulativa di qualsiasi numero che desideri sapere\")\n",
    "n=int(input(\"Quindi, inserisci il numero positivo che desideri calcolare: \"))\n",
    "addizione=0\n",
    "for numero in range(1,n+1):\n",
    "    addizione+=numero#il simbolo += svolge due compiti in uno: fa la somma e riassegna il valore della variabile\n",
    "print(\"La somma dei primi\",n,\"numeri interi è\",addizione)\n",
    "print(\"Perciò la somma cumulativa di\",n,\"è\",addizione)"
   ]
  },
  {
   "cell_type": "markdown",
   "id": "81d72b9f",
   "metadata": {},
   "source": [
    "##   gioco dell'indovinello "
   ]
  },
  {
   "cell_type": "code",
   "execution_count": null,
   "id": "7a009b31",
   "metadata": {},
   "outputs": [],
   "source": [
    "import random\n",
    "\n",
    "numero_da_indovinare = random.randint(1,100)\n",
    "tentativi = 0\n",
    "\n",
    "while True: \n",
    "    tentativo = int(input (\"indovina il numero(1-100):\"))\n",
    "    tentativi += 1\n",
    "    \n",
    "    if tentativo == numero_da_indovinare:\n",
    "         print(\"bravo! hai indovinato il numero\", numero_da_indovinare, \"in\", tentativi, \"tentativi.\")\n",
    "         break\n",
    "    elif tentativo < numero_da_indovinare:\n",
    "        print(\"il numero è piu grande.\")\n",
    "    else:\n",
    "        print(\"il numero è piu piccolo\")\n",
    "        \n"
   ]
  },
  {
   "cell_type": "code",
   "execution_count": null,
   "id": "eb0d1c78",
   "metadata": {},
   "outputs": [],
   "source": [
    "import random\n",
    "\n",
    "numero_da_indovinare = random.randint(1,100)\n",
    "tentativi = 0\n",
    "\n",
    "while True: \n",
    "    tentativo = int(input (\"indovina il numero(1-100):\"))\n",
    "    tentativi += 1\n",
    "    \n",
    "    if tentativo == numero_da_indovinare:\n",
    "         print(\"bravo! hai indovinato il numero\", numero_da_indovinare, \"in\", tentativi, \"tentativi.\")\n",
    "         break\n",
    "    elif tentativo < numero_da_indovinare:\n",
    "        print(\"il numero è piu grande.\")\n",
    "    else:\n",
    "        print(\"il numero è piu piccolo\")\n",
    "        \n"
   ]
  },
  {
   "cell_type": "code",
   "execution_count": null,
   "id": "04069957",
   "metadata": {},
   "outputs": [],
   "source": [
    "import random\n",
    "\n",
    "numero_da_indovinare = random.randint(1,100)\n",
    "tentativi = 0\n",
    "\n",
    "while True: \n",
    "    tentativo = int(input (\"indovina il numero(1-100):\"))\n",
    "    tentativi += 1\n",
    "    \n",
    "    if tentativo == numero_da_indovinare:\n",
    "         print(\"bravo! hai indovinato il numero\", numero_da_indovinare, \"in\", tentativi, \"tentativi.\")\n",
    "         break\n",
    "    elif tentativo < numero_da_indovinare:\n",
    "        print(\"il numero è piu grande.\")\n",
    "    else:\n",
    "        print(\"il numero è piu piccolo\")\n",
    "        \n"
   ]
  },
  {
   "cell_type": "code",
   "execution_count": null,
   "id": "11d5c7ec",
   "metadata": {},
   "outputs": [],
   "source": [
    "import random\n",
    "\n",
    "mosse = [\"carta\", \"forbici\", \"sasso\"]\n",
    "\n",
    "computer_mossa = random.choice(mosse)\n",
    "\n",
    "print(\"benvenuti al gioco del morra cinese!\")\n",
    "scelta_giocatore = input(\"scegli la tua mossa (carta, forbici, sasso):\")\n",
    "\n",
    "print(\"il computer ha scelto:\", computer_mossa)\n",
    "\n",
    "elif (scelta_giocatore == \"Carta\" and computer_mossa == \"Sasso\") or \\\n",
    "     (scelta_giocatore == \"Forbici\" and computer_mossa == \"Carta\") or \\\n",
    "     (scelta_giocatore == \"Sasso\" and computer_mossa == \"Forbici\"):\n",
    "    print(\"Hai vinto!\")\n",
    "else:\n",
    "    print(\"Hai perso!\")\n",
    "    "
   ]
  },
  {
   "cell_type": "code",
   "execution_count": null,
   "id": "7643bd19",
   "metadata": {},
   "outputs": [],
   "source": [
    "import random\n",
    "\n",
    "mosse = [\"Carta\", \"Forbici\", \"Sasso\"]\n",
    "\n",
    "computer_mossa = random.choice(mosse)\n",
    "\n",
    "print(\"Benvenuti al Gioco del Morra Cinese\")\n",
    "scelta_giocatore = input(\"Scegli la tua mossa (Carta, Forbici, Sasso): \")\n",
    "\n",
    "print(\"Il computer ha scelto: \", computer_mossa)\n",
    "\n",
    "if scelta_giocatore == computer_mossa:\n",
    "    print(\"Pareggio!\")\n",
    "elif (scelta_giocatore == \"Carta\" and computer_mossa == \"Sasso\") or \\\n",
    "     (scelta_giocatore == \"Forbici\" and computer_mossa == \"Carta\") or \\\n",
    "     (scelta_giocatore == \"Sasso\" and computer_mossa == \"Forbici\"):\n",
    "    print(\"Hai vinto!\")\n",
    "else:\n",
    "    print(\"Hai perso!\")"
   ]
  },
  {
   "cell_type": "code",
   "execution_count": null,
   "id": "21dbac89",
   "metadata": {},
   "outputs": [],
   "source": [
    "numero = int(input(\"inserisci un numero intero positivo:\"))\n",
    "fattoriale = 1\n",
    "if numero < 0:\n",
    "    print(\"il fattoriale non è definito per numeri negativi\")\n",
    "elif numero == 0: \n",
    "    print (\"il fattoriale di 0 è 1\")\n",
    "else: \n",
    "    for numero in range (1,numero+1):\n",
    "        fattoriale*=fattoriale*numero\n",
    "    print(f\"il fattoriale di {numero} è {fattoriale}\")"
   ]
  },
  {
   "cell_type": "raw",
   "id": "e7a45d3c",
   "metadata": {},
   "source": []
  },
  {
   "cell_type": "code",
   "execution_count": null,
   "id": "7042d9ab",
   "metadata": {},
   "outputs": [],
   "source": [
    "import random\n",
    "\n",
    "# Genera un numero casuale da 1 a 6 (simulando il lancio di un dado)\n",
    "numero_dado = random.randint(1, 6)\n",
    "\n",
    "# Chiedi all'utente di indovinare il numero\n",
    "indovina = int(input(\"Indovina il numero del dado (da 1 a 6): \"))\n",
    "\n",
    "# Verifica se l'utente ha indovinato correttamente \n",
    "if indovina <1 or indovina >6:\n",
    "    print(\"numero non amesso\")\n",
    "elif indovina == numero_dado:\n",
    "    print(f\"Complimenti! Il numero del dado era {numero_dado}. Hai indovinato!\")\n",
    "else:\n",
    "    print(f\"Mi dispiace, il numero del dado era {numero_dado}. Meglio fortuna alla prossima!\")"
   ]
  },
  {
   "cell_type": "code",
   "execution_count": null,
   "id": "e2ec2f1b",
   "metadata": {},
   "outputs": [],
   "source": [
    "import datatime\n",
    "today = datetime.datetime.today()\n",
    "print(f\"oggi è il giorno:(today: %d )\")"
   ]
  },
  {
   "cell_type": "code",
   "execution_count": null,
   "id": "8d336a42",
   "metadata": {},
   "outputs": [],
   "source": [
    "tassi_di_cambio = {\n",
    "    \"dollari\" : 1.0,\n",
    "    \"euro\" : 0.85,\n",
    "    \"yen\" : 110.41,\n",
    "    \n",
    "}\n",
    "importo = float(input(\"inserisci l'importo da convertire \"))\n",
    "valuta _di_partenza = input(\"inserisci la valuta di partenza \").lower()\n",
    "valuta_destinaziione = input(\"inserisci la valuta di destinazione\").lower()\n",
    "if valuta_di_partenza in tassi_di_cambio:\n",
    "    tasso_di_cambio = tassi_di_cambio[valuta_dfestinazione] / tassi_di_cambio[valuta_di_partenza]\n",
    "    importo_convertito = importo * tasso_di_cambio\n",
    "    print(f\"{importo}{valuta_di_partenza }\")"
   ]
  },
  {
   "cell_type": "code",
   "execution_count": null,
   "id": "ee3a0d35",
   "metadata": {},
   "outputs": [],
   "source": [
    "frase = input(\"inserisci una frase: \")\n",
    "frase = frase.lower()\n",
    "alfabeto = 'qwertyuiopasdfghjklzxcvbnm'\n",
    "conteggio_lettere={}\n",
    "for lettera in alfabeto:\n",
    "    conteggio = frase.count(lettera)\n",
    "    if conteggio > 0: \n",
    "        conteggio_lettere[lettera]=\n",
    "        \n",
    "        "
   ]
  },
  {
   "cell_type": "code",
   "execution_count": null,
   "id": "927f71b0",
   "metadata": {},
   "outputs": [],
   "source": [
    "import random\n",
    "\n",
    "specie = [\"Elfo\", \"Umano\", \"Nano\", \"Orco\", \"Gnomo\"]\n",
    "classi = [\"Guerriero\", \"Mago\", \"Ranger\", \"Ladro\", \"Chierico\"]\n",
    "armi = [\"Spada\", \"Arco\", \"Bacchetta Magica\", \"Ascia\", \"Daga\"]\n",
    "abilita = [\"Furtività\", \"Magia dell'Acqua\", \"Camuffamento\", \"Estrazione Mineraria\", \"Incantesimi in Guà\"]\n",
    "\n",
    "def crea_personaggio():\n",
    "    personaggio = {\n",
    "        \"Specie\": random.choice(specie),\n",
    "        \"Classe\": random.choice(classi),\n",
    "        \"Arma\": random.choice(armi),\n",
    "        \"Abilità\": random.sample(abilita, random.randint(1, 3))\n",
    "    }\n",
    "    return personaggio\n",
    "\n",
    "def main():\n",
    "    personaggio_generato = crea_personaggio()\n",
    "    \n",
    "    print(\"Personaggio Fantasy generato:\")\n",
    "    for chiave, valore in personaggio_generato.items():\n",
    "        if chiave == \"Abilità\":\n",
    "            valore = ', '.join(valore)\n",
    "        print(f\"{chiave}: {valore}\")\n",
    "\n",
    "if __name__ == \"__main__\":\n",
    "    main()\n",
    "\n"
   ]
  },
  {
   "cell_type": "code",
   "execution_count": null,
   "id": "3bcfcb9a",
   "metadata": {},
   "outputs": [],
   "source": [
    "def genera_personaggio():\n",
    "    nome = input(\"Inserisci il nome del personaggio: \")\n",
    "    aspetto_fisico = random.choice(physical_traits)\n",
    "    aspetto_personale = random.choice(personality_traits)\n",
    "    sfondo = random.choice()"
   ]
  },
  {
   "cell_type": "code",
   "execution_count": null,
   "id": "bc65cb90",
   "metadata": {},
   "outputs": [],
   "source": [
    "import random [\n",
    "\n",
    "physical_traits =  \"Alto\", \"Basso\", \"Snello\", \"Muscoloso\", \"Sovrappeso\", \"Sottopeso\", \"Atletico\", \"Robusto\",\n",
    "    \"Curvy\", \"Magro\", \"Capelli biondi\", \"Capelli castani\", \"Capelli neri\", \"Capelli rossi\", \"Capelli grigi\",\n",
    "    \"Occhi blu\", \"Occhi castani\", \"Occhi verdi\", \"Occhi nocciola\", \"Lentiggini\", \"Abbronzato\", \"Pallido\",\n",
    "    \"Pelle scura\", \"Pelle chiara\", \"Tatuato\", \"Piercing\", \"Peloso\", \"Calvo\", \"Capelli ricci\",\n",
    "    \"Capelli lisci\", \"Capelli mossi\", \"Barba\", \"Rasato\", \"Occhiali\",\n",
    "    \"Fossette\", \"Fringe/Bangs (Fringhino)\", \"Cheekbones alti\", \"Spalle larghe\", \"Spalle strette\",\n",
    "    \"Gambe lunghe\", \"Gambe corte\", \"Naso grande\", \"Naso piccolo\", \"Labbra piene\", \"Labbra sottili\", \"Mento prominente\",\n",
    "    \"Viso tondo\", \"Viso ovale\", \"Viso quadrato\", \"Lentiggini\", \"Nevi\", \"Cicatrici\"\n",
    "\n",
    "\n",
    "personality_traits = \"Introverso\", \"Estroverso\", \"Empatico\", \"Ambizioso\", \"Creativo\", \"Altruista\", \"Determinato\",\n",
    "    \"Ottimista\", \"Realista\", \"Paziente\", \"Comprensivo\", \"Generoso\", \"Avventuroso\", \"Curioso\",\n",
    "    \"Indipendente\", \"Sensibile\", \"Socievole\", \"Riservato\", \"Spirito critico\", \"Tollerante\",\n",
    "    \"Affidabile\", \"Affettuoso\", \"Aperto al cambiamento\", \"Intuitivo\", \"Riflessivo\", \"Assertivo\",\n",
    "    \"Coraggioso\", \"Sincero\", \"Ambiente\", \"Gentile\", \"Honesto\", \"Leale\", \"Versatile\", \"Adattabile\",\n",
    "    \"Spiritualità\", \"Entusiasta\", \"Orientato agli obiettivi\", \"Creatività\", \"Eccentrico\",\n",
    "    \"Auto-motivato\", \"Paziente\", \"Rispettoso\", \"Auto-disciplinato\", \"Intelligente\", \"Diplomatico\",\n",
    "    \"Collaborativo\", \"Carismatico\", \"Saggio\", \"Gioviale\", \"Energico\", \"Abituato al rischio\"\n",
    "\n",
    "backgrounds = \"Educazione\", \"Tecnologia\", \"Medicina\", \"Finanza\", \"Arte\", \"Musica\", \"Sport\", \"Scienza\",\n",
    "    \"Politica\", \"Ingegneria\", \"Agricoltura\", \"Ambiente\", \"Startup\", \"Intrattenimento\",\n",
    "    \"Psicologia\", \"Filosofia\", \"Viaggi\", \"Gastronomia\", \"Moda\", \"Architettura\", \"Letteratura\",\n",
    "    \"Religione\", \"Economia\", \"Giornalismo\", \"Energia\", \"Diritto\", \"Scienze sociali\", \"Astronomia\",\n",
    "    \"Geologia\", \"Robotica\", \"Cucina\", \"Cinema\", \"Teatro\", \"Educazione fisica\", \"Storia\",\n",
    "    \"Matematica\", \"Biologia\", \"Chimica\", \"Lingue straniere\", \"Geografia\", \"Antropologia\",\n",
    "    \"Informatica\", \"Ricerca scientifica\", \"Volontariato\", \"Comunicazioni\", \"Commercio\",\n",
    "    \"Pubbliche relazioni\", \"Pubblica amministrazione\"\n",
    "\n",
    "motivazioni = [\"Realizzazione personale\", \"Potere\", \"Successo finanziario\", \"Riconoscimento sociale\",\n",
    "    \"Crescita personale\", \"Apprendimento continuo\", \"Autostima\", \"Autonomia\",\n",
    "    \"Creatività\", \"Curiosità\", \"Amore per la famiglia\", \"Amicizia\",\n",
    "    \"Avventura\", \"Contribuire alla comunità\", \"Amore per la natura\", \"Competizione\",\n",
    "    \"Benessere fisico\", \"Salute mentale\", \"Felicità\", \"Sicurezza finanziaria\",\n",
    "    \"Fama\", \"Realizzazione professionale\", \"Stabilità\", \"Innovazione\",\n",
    "    \"Rispetto degli altri\", \"Empatia\", \"Relazioni interpersonali\", \"Riconoscimento professionale\",\n",
    "    \"Passione per un hobby\", \"Soddisfazione lavorativa\", \"Equilibrio tra lavoro e vita\", \"Ambizione\",\n",
    "    \"Sentimento di appartenenza\", \"Altruismo\", \"Sviluppo delle abilità\", \"Leadership\",\n",
    "    \"Tradizione\", \"Cultura\", \"Trasformazione sociale\", \"Etica\",\n",
    "    \"Sostenibilità\", \"Giustizia sociale\", \"Rispetto per l'ambiente\", \"Amore per gli animali\",\n",
    "    \"Gratitudine\", \"Felicità degli altri\", \"Spirito di squadra\", \"Crescita economica\", \"Appagamento spirituale\"\n",
    "               ]\n",
    "             \n",
    "    "
   ]
  },
  {
   "cell_type": "code",
   "execution_count": null,
   "id": "616c0c9a",
   "metadata": {},
   "outputs": [],
   "source": [
    "def calcola_bmi(peso, altezza):\n",
    "    bmi = peso / (altezza ** 2)\n",
    "    return bmi\n",
    "\n",
    "def valuta_bmi(bmi):\n",
    "    if bmi < 18.5:\n",
    "        return \"Sottopeso\"\n",
    "    elif 18.5 <= bmi < 24.9:\n",
    "        return \"Normopeso\"\n",
    "    elif 25 <= bmi < 29.9:\n",
    "        return \"Sovrapeso\"\n",
    "    else:\n",
    "        return \"Obeso\"\n",
    "\n",
    "def main():\n",
    "    print(\"Benvenuto nella calcolatrice BMI\")\n",
    "\n",
    "    peso = float(input(\"Inserisci il tuo peso in chilogrammi: \"))\n",
    "    altezza = float(input(\"Inserisci la tua altezza in metri: \"))\n",
    "\n",
    "    bmi = calcola_bmi(peso, altezza)\n",
    "    valutazione = valuta_bmi(bmi)\n",
    "\n",
    "    print(f\"Il tuo BMI è {bmi:.2f}, sei classificato come '{valutazione}'.\")\n",
    "\n",
    "if __name__ == \"__main__\":\n",
    "    main()\n"
   ]
  },
  {
   "cell_type": "code",
   "execution_count": null,
   "id": "8e39fd21",
   "metadata": {},
   "outputs": [],
   "source": [
    "def main():\n",
    "    opzioni = [\"Opzione 1\", \"Opzione 2\", \"Opzione 3\", \"Opzione 4\"]\n",
    "\n",
    "    print(\"Scegli un'opzione:\")\n",
    "    for i, opzione in enumerate(opzioni, start=1):\n",
    "        print(f\"{i}. {opzione}\")\n",
    "\n",
    "    scelta = input(\"Inserisci il numero corrispondente all'opzione desiderata: \")\n",
    "\n",
    "    try:\n",
    "        scelta = int(scelta)\n",
    "        if 1 <= scelta <= len(opzioni):\n",
    "            opzione_scelta = opzioni[scelta - 1]\n",
    "            print(f\"Hai scelto: {opzione_scelta}\")\n",
    "        else:\n",
    "            print(\"Scelta non valida. Si prega di inserire un numero valido.\")\n",
    "    except ValueError:\n",
    "        print(\"Input non valido. Inserisci un numero.\")\n",
    "\n",
    "if __name__ == \"__main__\":\n",
    "    main()\n"
   ]
  },
  {
   "cell_type": "code",
   "execution_count": null,
   "id": "0de19bbb",
   "metadata": {},
   "outputs": [],
   "source": [
    "def celsius_to_fahrenheit(celsius):\n",
    "    fahrenheit = (celsius * 9/5) + 32\n",
    "    return fahrenheit\n",
    "\n",
    "def miles_to_kilometers(miles):\n",
    "    kilometers = miles * 1.60934\n",
    "    return kilometers\n",
    "\n",
    "def dollars_to_euros(dollars):\n",
    "    exchange_rate = 0.85  # Tasso di cambio attuale da dollari a euro (puoi modificarlo)\n",
    "    euros = dollars * exchange_rate\n",
    "    return euros\n",
    "\n",
    "def main():\n",
    "    print(\"Convertitore di Unità\")\n",
    "\n",
    "    while True:\n",
    "        print(\"\\nSeleziona l'operazione:\")\n",
    "        print(\"1. Celsius a Fahrenheit\")\n",
    "        print(\"2. Miglia a Chilometri\")\n",
    "        print(\"3. Dollari a Euro\")\n",
    "        print(\"4. Esci\")\n",
    "\n",
    "        scelta = input(\"Inserisci il numero corrispondente all'operazione desiderata: \")\n",
    "\n",
    "        if scelta == \"1\":\n",
    "            celsius = float(input(\"Inserisci la temperatura in gradi Celsius: \"))\n",
    "            fahrenheit = celsius_to_fahrenheit(celsius)\n",
    "            print(f\"{celsius} gradi Celsius corrispondono a {fahrenheit:.2f} gradi Fahrenheit.\")\n",
    "        elif scelta == \"2\":\n",
    "            miles = float(input(\"Inserisci la distanza in miglia: \"))\n",
    "            kilometers = miles_to_kilometers(miles)\n",
    "            print(f\"{miles} miglia corrispondono a {kilometers:.2f} chilometri.\")\n",
    "        elif scelta == \"3\":\n",
    "            dollars = float(input(\"Inserisci l'importo in dollari: \"))\n",
    "            euros = dollars_to_euros(dollars)\n",
    "            print(f\"{dollars} dollari corrispondono a {euros:.2f} euro.\")\n",
    "        elif scelta == \"4\":\n",
    "            print(\"Arrivederci!\")\n",
    "            break\n",
    "        else:\n",
    "            print(\"Scelta non valida. Riprova.\")\n",
    "\n",
    "if __name__ == \"__main__\":\n",
    "    main()\n"
   ]
  },
  {
   "cell_type": "code",
   "execution_count": null,
   "id": "bc030708",
   "metadata": {},
   "outputs": [],
   "source": [
    "def metro_kilometro(metro):\n",
    "    kilometro = metro/1000\n",
    "    return kilometro\n",
    "\n"
   ]
  },
  {
   "cell_type": "code",
   "execution_count": null,
   "id": "c82df7bb",
   "metadata": {},
   "outputs": [],
   "source": [
    "metro_kilometro(65)"
   ]
  },
  {
   "cell_type": "code",
   "execution_count": null,
   "id": "b3f6c6e0",
   "metadata": {},
   "outputs": [],
   "source": [
    "def metri_a_chilometri(metro):\n",
    "    chilometri = metro / 1000\n",
    "    return chilometri\n",
    "def chilometri_a_metri(chilo)\n",
    "metri = chilometri\n",
    "\n",
    "def grammi_a_chilogrammi(grammi):\n",
    "    chilogrammi = grammi / 1000\n",
    "    return chilogrammi\n",
    "\n",
    "def dollari_a_euro(dollari):\n",
    "    tasso_di_cambio = 0.85  # Tasso di cambio attuale da dollari a euro (puoi modificarlo)\n",
    "    euro = dollari * tasso_di_cambio\n",
    "    return euro"
   ]
  },
  {
   "cell_type": "code",
   "execution_count": null,
   "id": "5897927a",
   "metadata": {},
   "outputs": [],
   "source": [
    "import random\n",
    "# Possibili scelte per ogni attributo del personaggio\n",
    "speci = [\"'Umano\", \"Elfo\",\n",
    "\"Nano\".\n",
    "\"Orco\"1\n",
    "classi = [\"'Guerriero\",\n",
    "\"Mago\", \"Ladro\", \"Chierico\"]\n",
    "armi = ['Spada\", \"Arco\",\n",
    "\"Bastone\", \"Pugnale\"]\n",
    "abilita = [\"Fuoco\", \"Gelo\",\n",
    "\"Cura\"\n",
    ", \"Invisibilità\",\n",
    "\"Forza\", \"Velocità\"]\n",
    "# Scelte casuali per ogni attributo del personaggio\n",
    "specie = random. choice (speci)\n",
    "classe = random. choice (classi)\n",
    "arma = random. choice (armi)\n",
    "abilitas = random. sample(abilita, random. randint (1, 3)) # sample cosi decido io quanti e\n",
    "# Stampa delle informazioni del personaggio generato\n",
    "print(\"Personaggio fantasy generato: \")\n",
    "print (f\"Specie: {specie}\")\n",
    "print(f\"Classe: {classe}\")\n",
    "print (f'Arma: {arma}\")\n",
    "print (f\"Abilità: {',\n",
    "•join (abilitas)}\")"
   ]
  },
  {
   "cell_type": "code",
   "execution_count": null,
   "id": "f842bc9d",
   "metadata": {},
   "outputs": [],
   "source": [
    "grammi_a_chilogrammi(5000)"
   ]
  },
  {
   "cell_type": "code",
   "execution_count": 13,
   "id": "80163eb7",
   "metadata": {},
   "outputs": [
    {
     "data": {
      "image/png": "[encoded data removed]",
      "text/plain": [
       "<Figure size 640x480 with 1 Axes>"
      ]
     },
     "metadata": {},
     "output_type": "display_data"
    }
   ],
   "source": [
    "import matplotlib.pyplot as plt\n",
    "\n",
    "mese = ['Gennaio', 'Febbraio', 'Marzo', 'Aprile', 'Maggio']\n",
    "temperatura_media = [18, 12, 15, 18, 22]\n",
    "\n",
    "plt.plot(mese, temperatura_media, marker='o', linestyle='-', color='lightpink')\n",
    "plt.title('Andamento delle temperature medie mensili')\n",
    "plt.xlabel('Mese')\n",
    "plt.ylabel('Temperatura Media (°C)')\n",
    "plt.grid(True)\n",
    "plt.show()\n",
    "\n"
   ]
  },
  {
   "cell_type": "code",
   "execution_count": 14,
   "id": "54bca860",
   "metadata": {},
   "outputs": [
    {
     "name": "stdout",
     "output_type": "stream",
     "text": [
      "Questo programma può aiutarti a rispondere alle tue domande difficili. Dicci il tuo nome e poi il tuo numero fortunato, e ti darò la risposta.\n",
      "Qual è il tuo nome? fernando\n",
      "Ciao, fernando!\n",
      "Inserisci un numero fortunato: 5\n",
      "Non otterrà nulla di buono.\n"
     ]
    }
   ],
   "source": [
    "import random\n",
    "\n",
    "# Elenco delle tue frasi\n",
    "frasi = [\n",
    "    \"Smetta di creare confusione.\",\n",
    "    \"Non avrà esito positivo.\",\n",
    "    \"Non si pentirà della decisione.\",\n",
    "    \"Non ci sarà alcun risultato.\",\n",
    "    \"Interrompa l'agitazione.\",\n",
    "    \"Non otterrà nulla di buono.\",\n",
    "    \"Non cambierà idea.\",\n",
    "    \"Non si vedrà alcun miglioramento.\",\n",
    "    \"Non avrà successo.\",\n",
    "    \"Non cambierà nulla in meglio.\",\n",
    "    \"Non avrà conseguenze positive.\",\n",
    "    \"Non sarà proficuo.\",\n",
    "    \"Smetta di causare disturbi.\",\n",
    "    \"Non otterrà alcun frutto.\",\n",
    "    \"Non avrà successo a lungo termine.\",\n",
    "    \"Non migliorerà la situazione.\",\n",
    "    \"Non porterà alcun vantaggio tangibile.\",\n",
    "    \"Non ne ricaverà nulla di buono.\",\n",
    "    \"Non risolverà il problema.\",\n",
    "    \"Non porterà a nulla di costruttivo.\",\n",
    "    \"Non ne varrà la pena.\",\n",
    "    \"Non sarà fruttuoso.\",\n",
    "    \"Non otterrà alcun beneficio da ciò.\"\n",
    "]\n",
    "\n",
    "def invia_frase_casuale():\n",
    "    print(\"Questo programma può aiutarti a rispondere alle tue domande difficili. Dicci il tuo nome e poi il tuo numero fortunato, e ti darò la risposta.\")\n",
    "\n",
    "    # Chiedi il nome dell'utente\n",
    "    nome_utente = input(\"Qual è il tuo nome? \")\n",
    "    print(f\"Ciao, {nome_utente}!\")\n",
    "\n",
    "    numero_valido = False\n",
    "    while not numero_valido:\n",
    "        numero_utente = input(\"Inserisci un numero fortunato: \")\n",
    "        if numero_utente.isdigit():\n",
    "            numero = int(numero_utente)\n",
    "            indice = numero % len(frasi)\n",
    "            print(frasi[indice])\n",
    "            numero_valido = True\n",
    "        else:\n",
    "            print(\"Inserisci un numero valido.\")\n",
    "\n",
    "\n",
    "invia_frase_casuale()"
   ]
  }
 ],
 "metadata": {
  "kernelspec": {
   "display_name": "Python 3 (ipykernel)",
   "language": "python",
   "name": "python3"
  },
  "language_info": {
   "codemirror_mode": {
    "name": "ipython",
    "version": 3
   },
   "file_extension": ".py",
   "mimetype": "text/x-python",
   "name": "python",
   "nbconvert_exporter": "python",
   "pygments_lexer": "ipython3",
   "version": "3.11.4"
  }
 },
 "nbformat": 4,
 "nbformat_minor": 5
}
